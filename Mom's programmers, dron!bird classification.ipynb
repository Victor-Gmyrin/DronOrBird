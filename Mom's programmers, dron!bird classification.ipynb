{
  "cells": [
    {
      "cell_type": "markdown",
      "metadata": {
        "id": "hbf8UxqyDTrw"
      },
      "source": [
        "## Пример для хакатона осеннего семестра первого курса магистратуры \"Инженерия машинного обучения\"\n",
        "\n",
        "Чтобы запускать и редактировать код, сохраните копию этого ноутбука себе (Файл->Сохранить копию на диске...). Свою копию вы сможете изменять и запускать.\n",
        "\n",
        "Не забудьте включить GPU (Среда выполнения->Сменить среду выполнения->Аппаратный ускоритель->GPU)"
      ]
    },
    {
      "cell_type": "markdown",
      "metadata": {
        "id": "Kk7-GkDx7aYT"
      },
      "source": []
    },
    {
      "cell_type": "code",
      "execution_count": null,
      "metadata": {
        "id": "J-9dE2J4DJM0"
      },
      "outputs": [],
      "source": [
        "import os\n",
        "import numpy as np\n",
        "import tensorflow as tf\n",
        "from tensorflow.keras.models import Sequential\n",
        "from tensorflow.keras import layers\n",
        "from tensorflow.keras import utils\n",
        "from tensorflow.keras.applications import EfficientNetB0\n",
        "from tensorflow.keras.preprocessing import image\n",
        "from tensorflow.keras.preprocessing import image_dataset_from_directory\n",
        "import matplotlib.pyplot as plt\n",
        "from google.colab import files\n",
        "%matplotlib inline"
      ]
    },
    {
      "cell_type": "markdown",
      "metadata": {
        "id": "xW1S04zYCPtc"
      },
      "source": [
        "## Загружаем данные"
      ]
    },
    {
      "cell_type": "markdown",
      "metadata": {
        "id": "KcjJqlgZrfOn"
      },
      "source": [
        "Описание датасета: \n",
        "В датасете представлены набор изображений БПЛА и птиц в полете"
      ]
    },
    {
      "cell_type": "code",
      "execution_count": null,
      "metadata": {
        "colab": {
          "base_uri": "https://localhost:8080/"
        },
        "id": "aUmBByJl_nGX",
        "outputId": "ea1417f1-2277-4ed2-9d69-31b759c863a0"
      },
      "outputs": [
        {
          "output_type": "stream",
          "name": "stdout",
          "text": [
            "--2023-01-20 01:06:05--  https://www.dropbox.com/s/zbrk0twsfytmkhc/train.zip?dl=0\n",
            "Resolving www.dropbox.com (www.dropbox.com)... 162.125.3.18, 2620:100:6019:18::a27d:412\n",
            "Connecting to www.dropbox.com (www.dropbox.com)|162.125.3.18|:443... connected.\n",
            "HTTP request sent, awaiting response... 302 Found\n",
            "Location: /s/raw/zbrk0twsfytmkhc/train.zip [following]\n",
            "--2023-01-20 01:06:05--  https://www.dropbox.com/s/raw/zbrk0twsfytmkhc/train.zip\n",
            "Reusing existing connection to www.dropbox.com:443.\n",
            "HTTP request sent, awaiting response... 302 Found\n",
            "Location: https://uc54ad6dda8965445f8494f79f48.dl.dropboxusercontent.com/cd/0/inline/B05LYEK1Z80ld675TUtXV_hcobICl3vJxXgvrFIx3Vy0e2c3O3HZU2gQKcR1888pNzpWZmWMmqa3mFLWh8S808x3Yzm_-xpUcZI-W6wC4yCg3mrn5zcv-CJ1r95x1BBrtJc8xaoQ04itT8op8C-zlqKrigq237-4hucVMKL8H79CHg/file# [following]\n",
            "--2023-01-20 01:06:06--  https://uc54ad6dda8965445f8494f79f48.dl.dropboxusercontent.com/cd/0/inline/B05LYEK1Z80ld675TUtXV_hcobICl3vJxXgvrFIx3Vy0e2c3O3HZU2gQKcR1888pNzpWZmWMmqa3mFLWh8S808x3Yzm_-xpUcZI-W6wC4yCg3mrn5zcv-CJ1r95x1BBrtJc8xaoQ04itT8op8C-zlqKrigq237-4hucVMKL8H79CHg/file\n",
            "Resolving uc54ad6dda8965445f8494f79f48.dl.dropboxusercontent.com (uc54ad6dda8965445f8494f79f48.dl.dropboxusercontent.com)... 162.125.2.15, 2620:100:6019:15::a27d:40f\n",
            "Connecting to uc54ad6dda8965445f8494f79f48.dl.dropboxusercontent.com (uc54ad6dda8965445f8494f79f48.dl.dropboxusercontent.com)|162.125.2.15|:443... connected.\n",
            "HTTP request sent, awaiting response... 302 Found\n",
            "Location: /cd/0/inline2/B07QFVPSM2cPYbb4vbezaRBr5asxiFeH9fwbjQywQlO5PJg_VAAKO5v8tuzytoO0F_om1XI2JVrjIOw4L8SOYJy39AHfnBzTm1iHiMywit8fPKofjdZA7pBenzxqkMWHqbViKQ-YKh03ypbBjl5jzonnnVrOCRmMoaAtlLBvwdsYV2LFLTb6RA7-JrMBYZ_UKaXLI87K6yVVEiBwnkh_AUVXEyItoPlzU3RcozydAT00DeoRtWbbf59S3p1EAi-2uCOyPx02Fk8FlZOu3MexXwIrIxx0J0nlmY7GA2syYaSUrbU4u6cz8-SYbDImNnWtQ1ZEprNw3qrNoSO_F3_o80h7Xo9R-tVNa182LbNZpXqLdbcTSCumlP84h7hvOOPubZj1f1-amv1slcqKTSR_JL7V8Q5CtRNZ8j79ey6UOEmzyA/file [following]\n",
            "--2023-01-20 01:06:06--  https://uc54ad6dda8965445f8494f79f48.dl.dropboxusercontent.com/cd/0/inline2/B07QFVPSM2cPYbb4vbezaRBr5asxiFeH9fwbjQywQlO5PJg_VAAKO5v8tuzytoO0F_om1XI2JVrjIOw4L8SOYJy39AHfnBzTm1iHiMywit8fPKofjdZA7pBenzxqkMWHqbViKQ-YKh03ypbBjl5jzonnnVrOCRmMoaAtlLBvwdsYV2LFLTb6RA7-JrMBYZ_UKaXLI87K6yVVEiBwnkh_AUVXEyItoPlzU3RcozydAT00DeoRtWbbf59S3p1EAi-2uCOyPx02Fk8FlZOu3MexXwIrIxx0J0nlmY7GA2syYaSUrbU4u6cz8-SYbDImNnWtQ1ZEprNw3qrNoSO_F3_o80h7Xo9R-tVNa182LbNZpXqLdbcTSCumlP84h7hvOOPubZj1f1-amv1slcqKTSR_JL7V8Q5CtRNZ8j79ey6UOEmzyA/file\n",
            "Reusing existing connection to uc54ad6dda8965445f8494f79f48.dl.dropboxusercontent.com:443.\n",
            "HTTP request sent, awaiting response... 200 OK\n",
            "Length: 197958644 (189M) [application/zip]\n",
            "Saving to: ‘train.zip’\n",
            "\n",
            "train.zip           100%[===================>] 188.79M  41.3MB/s    in 4.8s    \n",
            "\n",
            "2023-01-20 01:06:12 (39.2 MB/s) - ‘train.zip’ saved [197958644/197958644]\n",
            "\n"
          ]
        }
      ],
      "source": [
        "!wget https://www.dropbox.com/s/zbrk0twsfytmkhc/train.zip?dl=0  -O train.zip"
      ]
    },
    {
      "cell_type": "code",
      "execution_count": null,
      "metadata": {
        "colab": {
          "base_uri": "https://localhost:8080/"
        },
        "id": "ZoQ0V8RXzw-y",
        "outputId": "05721ce9-22fc-4eb6-c2c1-1194e6f63bb4"
      },
      "outputs": [
        {
          "output_type": "stream",
          "name": "stdout",
          "text": [
            "--2023-01-20 01:06:12--  https://www.dropbox.com/s/8yi3m5261sk1tkh/test.zip?dl=0\n",
            "Resolving www.dropbox.com (www.dropbox.com)... 162.125.3.18, 2620:100:6019:18::a27d:412\n",
            "Connecting to www.dropbox.com (www.dropbox.com)|162.125.3.18|:443... connected.\n",
            "HTTP request sent, awaiting response... 302 Found\n",
            "Location: /s/raw/8yi3m5261sk1tkh/test.zip [following]\n",
            "--2023-01-20 01:06:12--  https://www.dropbox.com/s/raw/8yi3m5261sk1tkh/test.zip\n",
            "Reusing existing connection to www.dropbox.com:443.\n",
            "HTTP request sent, awaiting response... 302 Found\n",
            "Location: https://uc3da922fb0c7ecccf47238091e3.dl.dropboxusercontent.com/cd/0/inline/B040zcpSrFxAQZyopM73rS_C9q0JpCkTpqWd6gD187pP9Cq6UmuFn_bXUUQ_5A_UT9bTiy8VhcmmI3CDUVIyqXhITFSxjWeQuD4gutWvi3pSKhULMbelPnl8QN_atJacVGd_2faR1128aufoBC2YrskciJqhv8ilpYEKO5Epdi0lIQ/file# [following]\n",
            "--2023-01-20 01:06:13--  https://uc3da922fb0c7ecccf47238091e3.dl.dropboxusercontent.com/cd/0/inline/B040zcpSrFxAQZyopM73rS_C9q0JpCkTpqWd6gD187pP9Cq6UmuFn_bXUUQ_5A_UT9bTiy8VhcmmI3CDUVIyqXhITFSxjWeQuD4gutWvi3pSKhULMbelPnl8QN_atJacVGd_2faR1128aufoBC2YrskciJqhv8ilpYEKO5Epdi0lIQ/file\n",
            "Resolving uc3da922fb0c7ecccf47238091e3.dl.dropboxusercontent.com (uc3da922fb0c7ecccf47238091e3.dl.dropboxusercontent.com)... 162.125.7.15, 2620:100:6019:15::a27d:40f\n",
            "Connecting to uc3da922fb0c7ecccf47238091e3.dl.dropboxusercontent.com (uc3da922fb0c7ecccf47238091e3.dl.dropboxusercontent.com)|162.125.7.15|:443... connected.\n",
            "HTTP request sent, awaiting response... 302 Found\n",
            "Location: /cd/0/inline2/B07RCWT7CjFaCKJeKjhsCYHHPGls8zscFpoBOK2GMAf42GgLDhvPvVcJ-Th4PWPN_S_uje_ieJQGYFmy4OVU-g5tYwSV5F1XyzD9b5zoXdFh-VYbnpxPABNokWkHQG4K8Xxk6eHoKDTwbdKQPAHFU8-5NTPy92hwQ4BAWU8GA-CHWvLT_co0VUuuSKsZsJmBYkcgiKdAhZfmZ1npyC_VgVivnn7_JJJ_bmfGkKDrd9L0L1mGrCmee-oney8y0eWrCvxnfpQIOjPASyRXuwxZgOO24_7shFKlgqXU4EiINhI5PzsQjnJM0gQ7G_ftxxKTNRY7cY_gtdyK_mo-NEkl8pc6hv8xNCqBfjtwJ_sd36YCLn2FoPHZ9INYcyzyKkhY046zxWH5U23_bUy2pjr6BTGb7i3Y88XnTFh8RTabPt0V0A/file [following]\n",
            "--2023-01-20 01:06:13--  https://uc3da922fb0c7ecccf47238091e3.dl.dropboxusercontent.com/cd/0/inline2/B07RCWT7CjFaCKJeKjhsCYHHPGls8zscFpoBOK2GMAf42GgLDhvPvVcJ-Th4PWPN_S_uje_ieJQGYFmy4OVU-g5tYwSV5F1XyzD9b5zoXdFh-VYbnpxPABNokWkHQG4K8Xxk6eHoKDTwbdKQPAHFU8-5NTPy92hwQ4BAWU8GA-CHWvLT_co0VUuuSKsZsJmBYkcgiKdAhZfmZ1npyC_VgVivnn7_JJJ_bmfGkKDrd9L0L1mGrCmee-oney8y0eWrCvxnfpQIOjPASyRXuwxZgOO24_7shFKlgqXU4EiINhI5PzsQjnJM0gQ7G_ftxxKTNRY7cY_gtdyK_mo-NEkl8pc6hv8xNCqBfjtwJ_sd36YCLn2FoPHZ9INYcyzyKkhY046zxWH5U23_bUy2pjr6BTGb7i3Y88XnTFh8RTabPt0V0A/file\n",
            "Reusing existing connection to uc3da922fb0c7ecccf47238091e3.dl.dropboxusercontent.com:443.\n",
            "HTTP request sent, awaiting response... 200 OK\n",
            "Length: 81134889 (77M) [application/zip]\n",
            "Saving to: ‘test.zip’\n",
            "\n",
            "test.zip            100%[===================>]  77.38M  35.7MB/s    in 2.2s    \n",
            "\n",
            "2023-01-20 01:06:16 (35.7 MB/s) - ‘test.zip’ saved [81134889/81134889]\n",
            "\n"
          ]
        }
      ],
      "source": [
        "!wget https://www.dropbox.com/s/8yi3m5261sk1tkh/test.zip?dl=0 -O test.zip"
      ]
    },
    {
      "cell_type": "code",
      "execution_count": null,
      "metadata": {
        "colab": {
          "base_uri": "https://localhost:8080/"
        },
        "id": "LmTiycULJBV9",
        "outputId": "29572098-64ca-4dd8-acdf-c913ae51435f"
      },
      "outputs": [
        {
          "output_type": "stream",
          "name": "stdout",
          "text": [
            "sample_data  test.zip  train.zip\n"
          ]
        }
      ],
      "source": [
        "!ls"
      ]
    },
    {
      "cell_type": "code",
      "execution_count": null,
      "metadata": {
        "id": "MNbpcin0JDQ9"
      },
      "outputs": [],
      "source": [
        "!unzip -q train.zip"
      ]
    },
    {
      "cell_type": "code",
      "execution_count": null,
      "metadata": {
        "colab": {
          "base_uri": "https://localhost:8080/"
        },
        "id": "BXlavLxtJbg9",
        "outputId": "e9bf9ed6-2f43-4c1c-91ad-a1eee92967aa"
      },
      "outputs": [
        {
          "output_type": "stream",
          "name": "stdout",
          "text": [
            "bird  copter\n"
          ]
        }
      ],
      "source": [
        "!ls train"
      ]
    },
    {
      "cell_type": "code",
      "execution_count": null,
      "metadata": {
        "id": "_xPKDP1a0GY1"
      },
      "outputs": [],
      "source": [
        "!unzip -q test.zip"
      ]
    },
    {
      "cell_type": "code",
      "execution_count": null,
      "metadata": {
        "colab": {
          "base_uri": "https://localhost:8080/"
        },
        "id": "7ZAvRnzw0Nlc",
        "outputId": "c2d7a973-85f1-42f6-f056-42972be797de"
      },
      "outputs": [
        {
          "output_type": "stream",
          "name": "stdout",
          "text": [
            "bird  copter\n"
          ]
        }
      ],
      "source": [
        "!ls test"
      ]
    },
    {
      "cell_type": "markdown",
      "metadata": {
        "id": "sBtxTfArJmo1"
      },
      "source": [
        "Смотрим примеры картинок"
      ]
    },
    {
      "cell_type": "code",
      "execution_count": null,
      "metadata": {
        "colab": {
          "base_uri": "https://localhost:8080/",
          "height": 269
        },
        "id": "a3g5TG9_Joct",
        "outputId": "e1a0a834-46bd-483b-e181-95be83acb49b"
      },
      "outputs": [
        {
          "output_type": "display_data",
          "data": {
            "text/plain": [
              "<Figure size 432x288 with 1 Axes>"
            ],
            "image/png": "[encoded data removed]"
          },
          "metadata": {
            "needs_background": "light"
          }
        }
      ],
      "source": [
        "img_path = 'train/copter/copter1.JPEG'\n",
        "img = image.load_img(img_path, target_size=(224, 224))\n",
        "plt.imshow(img)\n",
        "plt.show()"
      ]
    },
    {
      "cell_type": "markdown",
      "metadata": {
        "id": "VSOoZ5WQg93t"
      },
      "source": [
        "## Создаем наборы данных"
      ]
    },
    {
      "cell_type": "markdown",
      "metadata": {
        "id": "0rZACWwwhHK6"
      },
      "source": [
        "Набор данных для обучения"
      ]
    },
    {
      "cell_type": "code",
      "execution_count": null,
      "metadata": {
        "colab": {
          "base_uri": "https://localhost:8080/"
        },
        "id": "_c87nc2hhBbt",
        "outputId": "5e33012a-7cca-43b8-ade4-f91a6c5d100f"
      },
      "outputs": [
        {
          "output_type": "stream",
          "name": "stdout",
          "text": [
            "Found 2488 files belonging to 2 classes.\n"
          ]
        }
      ],
      "source": [
        "train_dataset = image_dataset_from_directory('train',\n",
        "                                             batch_size=128,\n",
        "                                             image_size=(224, 224))"
      ]
    },
    {
      "cell_type": "code",
      "execution_count": null,
      "metadata": {
        "id": "9yb30gBCvd2Q"
      },
      "outputs": [],
      "source": [
        "class_names = train_dataset.class_names"
      ]
    },
    {
      "cell_type": "code",
      "execution_count": null,
      "metadata": {
        "colab": {
          "base_uri": "https://localhost:8080/"
        },
        "id": "NEHSKie1ve1A",
        "outputId": "6bc8a533-3a25-41ca-af70-0a8d770a2baa"
      },
      "outputs": [
        {
          "output_type": "execute_result",
          "data": {
            "text/plain": [
              "['bird', 'copter']"
            ]
          },
          "metadata": {},
          "execution_count": 12
        }
      ],
      "source": [
        "class_names"
      ]
    },
    {
      "cell_type": "markdown",
      "metadata": {
        "id": "rN0z8OQt0Vbd"
      },
      "source": [
        "Набор данных для тестирования"
      ]
    },
    {
      "cell_type": "code",
      "execution_count": null,
      "metadata": {
        "colab": {
          "base_uri": "https://localhost:8080/"
        },
        "id": "O4-KCxNY0YY8",
        "outputId": "9b0b22bc-863e-4c81-b45e-6a54e48fff8c"
      },
      "outputs": [
        {
          "output_type": "stream",
          "name": "stdout",
          "text": [
            "Found 359 files belonging to 2 classes.\n"
          ]
        }
      ],
      "source": [
        "test_dataset = image_dataset_from_directory('test',\n",
        "                                             batch_size=128,\n",
        "                                             image_size=(224, 224))"
      ]
    },
    {
      "cell_type": "markdown",
      "metadata": {
        "id": "FM0jbFq4iN55"
      },
      "source": [
        "## Создаем составную нейронную сеть"
      ]
    },
    {
      "cell_type": "code",
      "execution_count": null,
      "metadata": {
        "id": "7VKctT97iQ9V"
      },
      "outputs": [],
      "source": [
        "img_augmentation = Sequential(\n",
        "    [\n",
        "        layers.RandomRotation(factor=0.15),\n",
        "        layers.RandomTranslation(height_factor=0.1, width_factor=0.1),\n",
        "        layers.RandomFlip(),\n",
        "        layers.RandomContrast(factor=0.1),\n",
        "    ],\n",
        "    name=\"img_augmentation\",\n",
        ")"
      ]
    },
    {
      "cell_type": "code",
      "execution_count": null,
      "metadata": {
        "colab": {
          "base_uri": "https://localhost:8080/"
        },
        "id": "oSnveNshkha0",
        "outputId": "4ada9228-92f8-4c53-ac70-94bcabb435e4"
      },
      "outputs": [
        {
          "output_type": "stream",
          "name": "stderr",
          "text": [
            "WARNING:tensorflow:Using a while_loop for converting RngReadAndSkip\n",
            "WARNING:tensorflow:Using a while_loop for converting Bitcast\n",
            "WARNING:tensorflow:Using a while_loop for converting Bitcast\n",
            "WARNING:tensorflow:Using a while_loop for converting StatelessRandomUniformV2\n",
            "WARNING:tensorflow:Using a while_loop for converting RngReadAndSkip\n",
            "WARNING:tensorflow:Using a while_loop for converting Bitcast\n",
            "WARNING:tensorflow:Using a while_loop for converting Bitcast\n",
            "WARNING:tensorflow:Using a while_loop for converting StatelessRandomUniformV2\n",
            "WARNING:tensorflow:Using a while_loop for converting ImageProjectiveTransformV3\n",
            "WARNING:tensorflow:Using a while_loop for converting RngReadAndSkip\n",
            "WARNING:tensorflow:Using a while_loop for converting Bitcast\n",
            "WARNING:tensorflow:Using a while_loop for converting Bitcast\n",
            "WARNING:tensorflow:Using a while_loop for converting StatelessRandomUniformFullIntV2\n",
            "WARNING:tensorflow:Using a while_loop for converting StatelessRandomGetKeyCounter\n",
            "WARNING:tensorflow:Using a while_loop for converting StatelessRandomUniformV2\n",
            "WARNING:tensorflow:Using a while_loop for converting AdjustContrastv2\n",
            "WARNING:tensorflow:Using a while_loop for converting RngReadAndSkip\n",
            "WARNING:tensorflow:Using a while_loop for converting Bitcast\n",
            "WARNING:tensorflow:Using a while_loop for converting Bitcast\n",
            "WARNING:tensorflow:Using a while_loop for converting StatelessRandomUniformV2\n",
            "WARNING:tensorflow:Using a while_loop for converting RngReadAndSkip\n",
            "WARNING:tensorflow:Using a while_loop for converting Bitcast\n",
            "WARNING:tensorflow:Using a while_loop for converting Bitcast\n",
            "WARNING:tensorflow:Using a while_loop for converting StatelessRandomUniformV2\n",
            "WARNING:tensorflow:Using a while_loop for converting ImageProjectiveTransformV3\n",
            "WARNING:tensorflow:Using a while_loop for converting RngReadAndSkip\n",
            "WARNING:tensorflow:Using a while_loop for converting Bitcast\n",
            "WARNING:tensorflow:Using a while_loop for converting Bitcast\n",
            "WARNING:tensorflow:Using a while_loop for converting StatelessRandomUniformFullIntV2\n",
            "WARNING:tensorflow:Using a while_loop for converting StatelessRandomGetKeyCounter\n",
            "WARNING:tensorflow:Using a while_loop for converting StatelessRandomUniformV2\n",
            "WARNING:tensorflow:Using a while_loop for converting AdjustContrastv2\n"
          ]
        },
        {
          "output_type": "stream",
          "name": "stdout",
          "text": [
            "Downloading data from https://storage.googleapis.com/keras-applications/efficientnetb0_notop.h5\n",
            "16705208/16705208 [==============================] - 0s 0us/step\n"
          ]
        }
      ],
      "source": [
        "inputs = layers.Input(shape=(224, 224, 3))\n",
        "x = img_augmentation(inputs)\n",
        "model = EfficientNetB0(include_top=False, input_tensor=x, weights=\"imagenet\")\n",
        "\n",
        "# Freeze the pretrained weights\n",
        "model.trainable = False\n",
        "\n",
        "# Rebuild top\n",
        "x = layers.GlobalAveragePooling2D(name=\"avg_pool\")(model.output)\n",
        "x = layers.BatchNormalization()(x)\n",
        "\n",
        "top_dropout_rate = 0.2\n",
        "x = layers.Dropout(top_dropout_rate, name=\"top_dropout\")(x)\n",
        "# Для задачи с двумя классами изображений\n",
        "outputs = layers.Dense(1, activation=\"sigmoid\", name=\"pred\")(x)\n",
        "# Для задачи с несколькими классами изображений\n",
        "# num_classes = 3 # Задаем количество классов\n",
        "# outputs = layers.Dense(num_classes, activation=\"softmax\", name=\"pred\")(x)\n",
        "model = tf.keras.Model(inputs, outputs, name=\"EfficientNet\")"
      ]
    },
    {
      "cell_type": "markdown",
      "metadata": {
        "id": "Ei5qQXtjZeuQ"
      },
      "source": [
        "Компилируем составную нейронную сеть"
      ]
    },
    {
      "cell_type": "code",
      "execution_count": null,
      "metadata": {
        "id": "DeKT__ZeZeDS"
      },
      "outputs": [],
      "source": [
        "# Для задачи с двумя классами изображений\n",
        "model.compile(loss='binary_crossentropy',\n",
        "              optimizer='adam', \n",
        "              metrics=['accuracy'])\n",
        "# Для задачи с несколькими классами изображений\n",
        "# model.compile(loss='categorical_crossentropy',\n",
        "#              optimizer='adam', \n",
        "#              metrics=['accuracy'])"
      ]
    },
    {
      "cell_type": "markdown",
      "metadata": {
        "id": "3WqAoWQSbNY_"
      },
      "source": [
        "## Обучаем сеть"
      ]
    },
    {
      "cell_type": "code",
      "execution_count": null,
      "metadata": {
        "colab": {
          "base_uri": "https://localhost:8080/"
        },
        "id": "vVuZxS7MbQNQ",
        "outputId": "ecd15d02-f1d8-428c-ee7f-b8a8bce69795"
      },
      "outputs": [
        {
          "metadata": {
            "tags": null
          },
          "name": "stdout",
          "output_type": "stream",
          "text": [
            "Epoch 1/10\n"
          ]
        },
        {
          "metadata": {
            "tags": null
          },
          "name": "stderr",
          "output_type": "stream",
          "text": [
            "WARNING:tensorflow:Using a while_loop for converting RngReadAndSkip\n",
            "WARNING:tensorflow:Using a while_loop for converting Bitcast\n",
            "WARNING:tensorflow:Using a while_loop for converting Bitcast\n",
            "WARNING:tensorflow:Using a while_loop for converting StatelessRandomUniformV2\n",
            "WARNING:tensorflow:Using a while_loop for converting RngReadAndSkip\n",
            "WARNING:tensorflow:Using a while_loop for converting Bitcast\n",
            "WARNING:tensorflow:Using a while_loop for converting Bitcast\n",
            "WARNING:tensorflow:Using a while_loop for converting StatelessRandomUniformV2\n",
            "WARNING:tensorflow:Using a while_loop for converting ImageProjectiveTransformV3\n",
            "WARNING:tensorflow:Using a while_loop for converting RngReadAndSkip\n",
            "WARNING:tensorflow:Using a while_loop for converting Bitcast\n",
            "WARNING:tensorflow:Using a while_loop for converting Bitcast\n",
            "WARNING:tensorflow:Using a while_loop for converting StatelessRandomUniformFullIntV2\n",
            "WARNING:tensorflow:Using a while_loop for converting StatelessRandomGetKeyCounter\n",
            "WARNING:tensorflow:Using a while_loop for converting StatelessRandomUniformV2\n",
            "WARNING:tensorflow:Using a while_loop for converting AdjustContrastv2\n",
            "WARNING:tensorflow:Using a while_loop for converting RngReadAndSkip\n",
            "WARNING:tensorflow:Using a while_loop for converting Bitcast\n",
            "WARNING:tensorflow:Using a while_loop for converting Bitcast\n",
            "WARNING:tensorflow:Using a while_loop for converting StatelessRandomUniformV2\n",
            "WARNING:tensorflow:Using a while_loop for converting RngReadAndSkip\n",
            "WARNING:tensorflow:Using a while_loop for converting Bitcast\n",
            "WARNING:tensorflow:Using a while_loop for converting Bitcast\n",
            "WARNING:tensorflow:Using a while_loop for converting StatelessRandomUniformV2\n",
            "WARNING:tensorflow:Using a while_loop for converting ImageProjectiveTransformV3\n",
            "WARNING:tensorflow:Using a while_loop for converting RngReadAndSkip\n",
            "WARNING:tensorflow:Using a while_loop for converting Bitcast\n",
            "WARNING:tensorflow:Using a while_loop for converting Bitcast\n",
            "WARNING:tensorflow:Using a while_loop for converting StatelessRandomUniformFullIntV2\n",
            "WARNING:tensorflow:Using a while_loop for converting StatelessRandomGetKeyCounter\n",
            "WARNING:tensorflow:Using a while_loop for converting StatelessRandomUniformV2\n",
            "WARNING:tensorflow:Using a while_loop for converting AdjustContrastv2\n"
          ]
        },
        {
          "output_type": "stream",
          "name": "stdout",
          "text": [
            "20/20 [==============================] - 70s 3s/step - loss: 0.5731 - accuracy: 0.7150\n",
            "Epoch 2/10\n",
            "20/20 [==============================] - 49s 2s/step - loss: 0.2453 - accuracy: 0.9035\n",
            "Epoch 3/10\n",
            "20/20 [==============================] - 51s 2s/step - loss: 0.1646 - accuracy: 0.9389\n",
            "Epoch 4/10\n",
            "20/20 [==============================] - 49s 2s/step - loss: 0.1412 - accuracy: 0.9482\n",
            "Epoch 5/10\n",
            "20/20 [==============================] - 50s 2s/step - loss: 0.1143 - accuracy: 0.9626\n",
            "Epoch 6/10\n",
            "20/20 [==============================] - 51s 2s/step - loss: 0.1089 - accuracy: 0.9650\n",
            "Epoch 7/10\n",
            "20/20 [==============================] - 49s 2s/step - loss: 0.0981 - accuracy: 0.9662\n",
            "Epoch 8/10\n",
            "20/20 [==============================] - 49s 2s/step - loss: 0.0862 - accuracy: 0.9699\n",
            "Epoch 9/10\n",
            "20/20 [==============================] - 49s 2s/step - loss: 0.0841 - accuracy: 0.9739\n",
            "Epoch 10/10\n",
            "20/20 [==============================] - 48s 2s/step - loss: 0.0706 - accuracy: 0.9779\n",
            "<BatchDataset element_spec=(TensorSpec(shape=(None, 224, 224, 3), dtype=tf.float32, name=None), TensorSpec(shape=(None,), dtype=tf.int32, name=None))>\n"
          ]
        }
      ],
      "source": [
        "history = model.fit(train_dataset,\n",
        "                    epochs=10)\n",
        "print(train_dataset)"
      ]
    },
    {
      "cell_type": "markdown",
      "metadata": {
        "id": "EUmjkgVfED5F"
      },
      "source": [
        "Проверяем качество обучения на тестовом наборе данных\n"
      ]
    },
    {
      "cell_type": "code",
      "execution_count": null,
      "metadata": {
        "colab": {
          "base_uri": "https://localhost:8080/"
        },
        "id": "VTbj27FSdaey",
        "outputId": "91137ce3-121d-43ea-b10c-b1b61e21685d"
      },
      "outputs": [
        {
          "output_type": "stream",
          "name": "stdout",
          "text": [
            "3/3 [==============================] - 5s 713ms/step - loss: 0.1735 - accuracy: 0.9387\n"
          ]
        }
      ],
      "source": [
        "scores = model.evaluate(test_dataset, verbose=1)"
      ]
    },
    {
      "cell_type": "code",
      "execution_count": null,
      "metadata": {
        "colab": {
          "base_uri": "https://localhost:8080/"
        },
        "id": "Wsnp3qxl01e5",
        "outputId": "19fd0c51-f77d-40c3-e15d-2f72fbbbe8c7"
      },
      "outputs": [
        {
          "output_type": "stream",
          "name": "stdout",
          "text": [
            "Доля верных ответов на тестовых данных, в процентах: 93.8719\n"
          ]
        }
      ],
      "source": [
        "print(\"Доля верных ответов на тестовых данных, в процентах:\", round(scores[1] * 100, 4))"
      ]
    },
    {
      "cell_type": "markdown",
      "metadata": {
        "id": "nophkWccubGB"
      },
      "source": [
        "## Использование нейронной сети для распознавания изображений\n",
        "\n",
        "Вспоминаем номера классов"
      ]
    },
    {
      "cell_type": "code",
      "execution_count": null,
      "metadata": {
        "colab": {
          "base_uri": "https://localhost:8080/"
        },
        "id": "e7PW4N8UwVNw",
        "outputId": "56fe8ffc-38dd-41c6-970d-da2b3dec02ca"
      },
      "outputs": [
        {
          "output_type": "execute_result",
          "data": {
            "text/plain": [
              "['bird', 'copter']"
            ]
          },
          "metadata": {},
          "execution_count": 20
        }
      ],
      "source": [
        "class_names"
      ]
    },
    {
      "cell_type": "markdown",
      "metadata": {
        "id": "p3aLt3QbwcLA"
      },
      "source": [
        "Загружаем изображение из файла"
      ]
    },
    {
      "cell_type": "code",
      "execution_count": null,
      "metadata": {
        "colab": {
          "base_uri": "https://localhost:8080/",
          "height": 269
        },
        "id": "dp6mVVX6ugSF",
        "outputId": "0cd4776a-2db6-43eb-c34b-3ff99865fd99"
      },
      "outputs": [
        {
          "output_type": "display_data",
          "data": {
            "text/plain": [
              "<Figure size 432x288 with 1 Axes>"
            ],
            "image/png": "[encoded data removed]"
          },
          "metadata": {
            "needs_background": "light"
          }
        }
      ],
      "source": [
        "img_path = '/content/test/bird/2023-01-17_23-06_3.png'\n",
        "img = image.load_img(img_path, target_size=(224, 224))\n",
        "plt.imshow(img)\n",
        "plt.show()"
      ]
    },
    {
      "cell_type": "markdown",
      "metadata": {
        "id": "aX_xkm0IwgMs"
      },
      "source": [
        "Преобразуем изображение в массив"
      ]
    },
    {
      "cell_type": "code",
      "execution_count": null,
      "metadata": {
        "id": "eREEib0PvBR4"
      },
      "outputs": [],
      "source": [
        "x = image.img_to_array(img)\n",
        "x = np.expand_dims(x, axis=0)"
      ]
    },
    {
      "cell_type": "markdown",
      "metadata": {
        "id": "-QfoEfaOwi95"
      },
      "source": [
        "Запускаем распознавание"
      ]
    },
    {
      "cell_type": "code",
      "execution_count": null,
      "metadata": {
        "colab": {
          "base_uri": "https://localhost:8080/"
        },
        "id": "4YXiKNa2vFjk",
        "outputId": "6fa76b91-7858-4f0b-eef0-6afec10ebcdb"
      },
      "outputs": [
        {
          "output_type": "stream",
          "name": "stdout",
          "text": [
            "1/1 [==============================] - 1s 1s/step\n"
          ]
        }
      ],
      "source": [
        "prediction = model.predict(x)"
      ]
    },
    {
      "cell_type": "markdown",
      "metadata": {
        "id": "CD10884AwlhX"
      },
      "source": [
        "Печатаем результаты распознавания"
      ]
    },
    {
      "cell_type": "code",
      "execution_count": null,
      "metadata": {
        "colab": {
          "base_uri": "https://localhost:8080/"
        },
        "id": "iZm5X7hKvI40",
        "outputId": "a3de7d4e-a0b8-4542-87bc-95305ca34e7e"
      },
      "outputs": [
        {
          "output_type": "execute_result",
          "data": {
            "text/plain": [
              "array([[0.30759728]], dtype=float32)"
            ]
          },
          "metadata": {},
          "execution_count": 24
        }
      ],
      "source": [
        "prediction"
      ]
    }
  ],
  "metadata": {
    "accelerator": "GPU",
    "colab": {
      "provenance": []
    },
    "gpuClass": "standard",
    "kernelspec": {
      "display_name": "Python 3",
      "name": "python3"
    }
  },
  "nbformat": 4,
  "nbformat_minor": 0
}